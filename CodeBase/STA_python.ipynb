{
 "cells": [
  {
   "cell_type": "code",
   "execution_count": 10,
   "id": "e05234e6",
   "metadata": {},
   "outputs": [],
   "source": [
    "\n",
    "# NLDM=open(NLDM_file_name,'r')"
   ]
  },
  {
   "cell_type": "code",
   "execution_count": 11,
   "id": "5ae7ce0f",
   "metadata": {},
   "outputs": [],
   "source": [
    "# print(NLDM.read())"
   ]
  },
  {
   "cell_type": "code",
   "execution_count": 60,
   "id": "1f06c121",
   "metadata": {},
   "outputs": [],
   "source": []
  },
  {
   "cell_type": "code",
   "execution_count": 5,
   "id": "fc4a64cc",
   "metadata": {},
   "outputs": [],
   "source": [
    "def delayModelFileParsing(fileName):\n",
    "#     try:\n",
    "    NLDM=open(fileName,'r')\n",
    "        \n",
    "    initialCase=1\n",
    "    gateName=\"\"\n",
    "    valueCounter=0\n",
    "    templist_DT=[]\n",
    "    templist_OS=[]\n",
    "    for line in NLDM.readlines():\n",
    "        match initialCase:\n",
    "            case 1:\n",
    "                if(\"cell (\" in line):\n",
    "                    gateName=line.split(\"(\")[1].split(\")\")[0]\n",
    "                    gateInformation[str(gateName)]={}\n",
    "                    initialCase=2\n",
    "                    continue\n",
    "            case 2:\n",
    "                if(\"capacitance\t\t:\" in line):\n",
    "                    capVal=float(line.partition(\":\")[2].split(\";\")[0])\n",
    "                    gateInformation[str(gateName)][\"inputCapacitance\"]=capVal\n",
    "                    initialCase=3\n",
    "                    continue\n",
    "            case 3:\n",
    "                if \"cell_delay(Timing_7_7)\" in line:\n",
    "                    initialCase=4\n",
    "                    continue\n",
    "            case 4:\n",
    "                if \"index_1\" in line:\n",
    "                    templist=line.split(\"(\")[1].split(\")\")[0].replace('\"','').split(\",\")\n",
    "                    for i in range(0,len(templist)):\n",
    "                        templist[i]=float(templist[i])\n",
    "                    gateInformation[str(gateName)][\"inputSlew\"]=templist\n",
    "                    initialCase=5\n",
    "                    continue\n",
    "            case 5:\n",
    "                if \"index_2\" in line:\n",
    "                    templist2=line.split(\"(\")[1].split(\")\")[0].replace('\"','').split(\",\")\n",
    "                    for i in range(0,len(templist2)):\n",
    "                        templist2[i]=float(templist2[i])\n",
    "                    gateInformation[str(gateName)][\"loadCapacitance\"]=templist2\n",
    "                    initialCase=6\n",
    "                    continue\n",
    "            case 6:\n",
    "                if(valueCounter<7):\n",
    "                        templist3=line.split('\\\"')[1].split(\",\")\n",
    "\n",
    "                        for i in range(0,len(templist3)):\n",
    "                            templist3[i]=float(templist3[i])\n",
    "                        templist_DT.append(templist3)\n",
    "                        valueCounter+=1\n",
    "                        initialCase=6\n",
    "                else:\n",
    "                    gateInformation[str(gateName)][\"delayTable\"]=templist_DT\n",
    "                    valueCounter=0\n",
    "                    initialCase=7\n",
    "            case 7:\n",
    "                if \"output_slew(Timing_7_7)\" in line:\n",
    "                    initialCase=8\n",
    "                    continue\n",
    "            case 8:\n",
    "                if \"index_1\" in line:\n",
    "                    initialCase=9\n",
    "                    continue\n",
    "            case 9:\n",
    "                if \"index_2\" in line:\n",
    "                    initialCase=10\n",
    "                    continue\n",
    "            case 10:\n",
    "                if(valueCounter<7):\n",
    "                        templist4=line.split('\\\"')[1].split(\",\")\n",
    "                        for i in range(0,len(templist4)):\n",
    "                            templist4[i]=float(templist4[i])\n",
    "                        templist_OS.append(templist4)\n",
    "                        valueCounter+=1\n",
    "                        initialCase=10\n",
    "                else:\n",
    "                    gateInformation[str(gateName)][\"outputSlew\"]=templist_OS\n",
    "                    valueCounter=0\n",
    "                    initialCase=1\n",
    "                    templist_DT=[]\n",
    "                    templist_OS=[]\n",
    "            \n",
    "            "
   ]
  },
  {
   "cell_type": "code",
   "execution_count": 2,
   "id": "2ff01b4d",
   "metadata": {},
   "outputs": [],
   "source": [
    "NLDM_file_name=\"NLDM_lib_max2Inp\"\n",
    "gateInformation={}\n",
    "circuitInfo={}\n",
    "delayModelFileParsing(NLDM_file_name)"
   ]
  },
  {
   "cell_type": "code",
   "execution_count": 6,
   "id": "cfcf89da",
   "metadata": {},
   "outputs": [],
   "source": [
    "def circuitFileParsing(circuitFile):\n",
    "    \n",
    "#     try:\n",
    "        ckt=open(circuitFile,'r')\n",
    "        print(\"Parsing Circuit file : \"+ circuitFile)\n",
    "        for line in ckt.readlines():\n",
    "            if len(line.split()) == 0:\n",
    "                continue\n",
    "            elif(\"#\" not in line):\n",
    "                if \"=\" in line:\n",
    "                    if \"DFF\" in line:\n",
    "                        lineSplit=line.split(\"=\")\n",
    "                        gateNo=str(lineSplit[0].strip())\n",
    "                        if gateNo not in circuitInfo:\n",
    "                            circuitInfo[gateNo]={}\n",
    "                            \n",
    "\n",
    "                        circuitInfo[gateNo][\"isInput\"]=True\n",
    "                        circuitInfo[gateNo][\"isOutput\"]=False\n",
    "                        gateName=str(lineSplit[1].split(\"(\")[0].strip())\n",
    "                        circuitInfo[gateNo][\"gateType\"]=\"INPUT\"\n",
    "\n",
    "\n",
    "\n",
    "                        tempOutputNode=lineSplit[1].split(\"(\")[1].split(\")\")[0].strip()\n",
    "                        circuitInfo[tempOutputNode]={}\n",
    "                        circuitInfo[tempOutputNode][\"isOutput\"]=True\n",
    "                        circuitInfo[tempOutputNode][\"gateType\"]=\"OUTPUT\"\n",
    "                        circuitInfo[tempOutputNode][\"isInput\"]=False\n",
    "                        outputsforAT.append(tempOutputNode)\n",
    "\n",
    "                    else:\n",
    "                        lineSplit=line.split(\"=\")\n",
    "                        gateNo=str(lineSplit[0].strip())\n",
    "                        gateName=str(lineSplit[1].split(\"(\")[0].strip())\n",
    "                        fanIns=[k.strip() for k in lineSplit[1].split(\"(\")[1].split(\")\")[0].split(\",\")]\n",
    "\n",
    "                        for i in fanIns:\n",
    "                            if(i  not in circuitInfo):\n",
    "                                circuitInfo[i]={}\n",
    "                            \n",
    "                            if \"fanOut\" not in circuitInfo[i]:\n",
    "                                circuitInfo[i][\"fanOut\"]=[]\n",
    "                            if isinstance(circuitInfo[i][\"fanOut\"],list):\n",
    "                                dummy=circuitInfo[i][\"fanOut\"]\n",
    "                                if gateNo not in dummy:\n",
    "                                    circuitInfo[i][\"fanOut\"].append(gateNo)\n",
    "                            else:\n",
    "                                circuitInfo[i][\"fanOut\"]=[]\n",
    "                                circuitInfo[i][\"fanOut\"].append(gateNo)\n",
    "#                             else:\n",
    "#                                 circuitInfo[i][\"fanOut\"].append(gateNo)\n",
    "                        if gateNo not in circuitInfo:\n",
    "                            circuitInfo[gateNo]={}\n",
    "                        circuitInfo[gateNo][\"gateType\"]=gateName\n",
    "                        circuitInfo[gateNo][\"fanIn\"]=fanIns\n",
    "                elif (\"=\" not in line):\n",
    "                    gateNo=str(line.split(\"(\")[1].replace(\" )\",\"\").replace(\"\\n\",\"\").strip().upper())\n",
    "                    if gateNo in circuitInfo:\n",
    "                        continue\n",
    "                    elif gateNo not in circuitInfo:\n",
    "                        circuitInfo[gateNo]={}\n",
    "                    gateType=line.split(\"(\")[0].strip().upper()\n",
    "                    circuitInfo[gateNo][\"gateType\"]=gateType\n",
    "                    if \"INPUT\" in gateType:\n",
    "                        circuitInfo[gateNo][\"isInput\"]=True\n",
    "                        circuitInfo[gateNo][\"isOutput\"]=False\n",
    "                    if \"OUTPUT\" in gateType:\n",
    "                        circuitInfo[gateNo][\"isInput\"]=False\n",
    "                        circuitInfo[gateNo][\"isOutput\"]=True\n",
    "                        outputsforAT.append(gateNo)\n",
    "#     except:\n",
    "#         print(\"Cannot read the file\")"
   ]
  },
  {
   "cell_type": "code",
   "execution_count": 7,
   "id": "efa71367",
   "metadata": {},
   "outputs": [],
   "source": [
    "def addAllNodes():\n",
    "    for key in circuitInfo:\n",
    "        allNodes.append(key)"
   ]
  },
  {
   "cell_type": "code",
   "execution_count": null,
   "id": "e4689df3",
   "metadata": {
    "scrolled": true
   },
   "outputs": [],
   "source": []
  },
  {
   "cell_type": "code",
   "execution_count": 8,
   "id": "791ebc49",
   "metadata": {},
   "outputs": [],
   "source": [
    "def topSortRecursive(v,visited,SortOrder):\n",
    "    visited[int(v)]=True\n",
    "    if \"fanOut\" in circuitInfo[v]:\n",
    "        for i in circuitInfo[v][\"fanOut\"]:\n",
    "            if visited[int(i)]==False:\n",
    "                topSortRecursive(i,visited,SortOrder)\n",
    "    SortOrder.insert(0,v)"
   ]
  },
  {
   "cell_type": "code",
   "execution_count": 9,
   "id": "32631b17",
   "metadata": {},
   "outputs": [],
   "source": [
    "# //Topsort\n",
    "\n",
    "\n",
    "\n",
    "def TopSort():\n",
    "    boolVectorSize=600000\n",
    "    visited=[False]*boolVectorSize\n",
    "\n",
    "    for i in allNodes:\n",
    "        if visited[int(i)] == False:\n",
    "            topSortRecursive(i,visited,SortOrder)\n",
    "\n"
   ]
  },
  {
   "cell_type": "code",
   "execution_count": 11,
   "id": "9b74021c",
   "metadata": {},
   "outputs": [
    {
     "name": "stdout",
     "output_type": "stream",
     "text": [
      "Parsing Circuit file : c17.isc\n"
     ]
    }
   ],
   "source": [
    "NLDM_file_name=\"NLDM_lib_max2Inp\"\n",
    "delayModelFileParsing(NLDM_file_name)\n",
    "# NLDM=open(NLDM_file_name,'r')\n",
    "circuitFile=\"c17.isc\"\n",
    "outputsforAT=[]\n",
    "circuitFileParsing(circuitFile)\n",
    "allNodes=[]\n",
    "addAllNodes()\n",
    "SortOrder=[]\n",
    "TopSort()"
   ]
  },
  {
   "cell_type": "code",
   "execution_count": 12,
   "id": "789ae2a3",
   "metadata": {},
   "outputs": [
    {
     "data": {
      "text/plain": [
       "['5', '4', '3', '9', '11', '2', '10', '7', '1', '8', '6']"
      ]
     },
     "execution_count": 12,
     "metadata": {},
     "output_type": "execute_result"
    }
   ],
   "source": [
    "SortOrder"
   ]
  },
  {
   "cell_type": "code",
   "execution_count": 14,
   "id": "df7415c9",
   "metadata": {},
   "outputs": [
    {
     "data": {
      "text/plain": [
       "['10']"
      ]
     },
     "execution_count": 14,
     "metadata": {},
     "output_type": "execute_result"
    }
   ],
   "source": [
    "# outputLoad=0.00\n",
    "# loopNode=''\n",
    "# Nodedelay=0.00\n",
    "# maxDelay=0.00\n",
    "# nodeOutputSlew=0.00\n",
    "# maxDelayPosition=-1\n",
    "\n",
    "# //Forward Traversal\n",
    "arrivalTimeforInputNode=0.00\n",
    "outputSlewforInputNode=0.02\n",
    "inverter_OutputLoad=4*1.700230\n",
    "for i in SortOrder:\n",
    "    currentNode=i\n",
    "    if \"isInput\" in circuitInfo[currentNode]:\n",
    "        if(circuitInfo[currentNode][\"isInput\"]==True):\n",
    "            circuitInfo[currentNode][\"arrivalTime\"]=arrivalTimeforInputNode\n",
    "            circuitInfo[currentNode][\"outputSlewFinal\"]=outputSlewforInputNode\n",
    "    elif \"isOutput\" in circuitInfo[currentNode]:\n",
    "        if(circuitInfo[currentNode][\"isOutput\"]==True):\n",
    "            faninSize=len(circuitInfo[currentNode][\"fanIn\"])\n",
    "            multiplier=double(faninSize)/2.0;\n",
    "            if len(circuitInfo[currentNode][\"fanOut\"])==0:\n",
    "                circuitInfo[currentNode][\"outputSlewFinal\"]=inverter_OutputLoad\n",
    "            else:\n",
    "                outputLoad=sumOfCapacitance()\n",
    "        \n"
   ]
  },
  {
   "cell_type": "code",
   "execution_count": 69,
   "id": "4d673316",
   "metadata": {},
   "outputs": [
    {
     "data": {
      "text/plain": [
       "{'1': {'gateType': 'INPUT',\n",
       "  'isInput': True,\n",
       "  'isOutput': False,\n",
       "  'fanOut': ['8']},\n",
       " '2': {'gateType': 'INPUT',\n",
       "  'isInput': True,\n",
       "  'isOutput': False,\n",
       "  'fanOut': ['10']},\n",
       " '3': {'gateType': 'INPUT',\n",
       "  'isInput': True,\n",
       "  'isOutput': False,\n",
       "  'fanOut': ['8', '9']},\n",
       " '4': {'gateType': 'INPUT',\n",
       "  'isInput': True,\n",
       "  'isOutput': False,\n",
       "  'fanOut': ['9']},\n",
       " '5': {'gateType': 'INPUT',\n",
       "  'isInput': True,\n",
       "  'isOutput': False,\n",
       "  'fanOut': ['11']},\n",
       " '6': {'gateType': 'NAND',\n",
       "  'isInput': False,\n",
       "  'isOutput': True,\n",
       "  'fanIn': ['8', '10']},\n",
       " '7': {'gateType': 'NAND',\n",
       "  'isInput': False,\n",
       "  'isOutput': True,\n",
       "  'fanIn': ['10', '11']},\n",
       " '8': {'gateType': 'NAND', 'fanIn': ['1', '3'], 'fanOut': ['6']},\n",
       " '9': {'gateType': 'NAND', 'fanIn': ['3', '4'], 'fanOut': ['10', '11']},\n",
       " '10': {'gateType': 'NAND', 'fanIn': ['2', '9'], 'fanOut': ['6', '7']},\n",
       " '11': {'gateType': 'NAND', 'fanIn': ['9', '5'], 'fanOut': ['7']}}"
      ]
     },
     "execution_count": 69,
     "metadata": {},
     "output_type": "execute_result"
    }
   ],
   "source": [
    "circuitInfo"
   ]
  },
  {
   "cell_type": "code",
   "execution_count": 5,
   "id": "2bbd538b",
   "metadata": {},
   "outputs": [
    {
     "ename": "IndentationError",
     "evalue": "unexpected indent (1497242639.py, line 4)",
     "output_type": "error",
     "traceback": [
      "\u001b[0;36m  Cell \u001b[0;32mIn [5], line 4\u001b[0;36m\u001b[0m\n\u001b[0;31m    if f1>f2 and f1>f3:\u001b[0m\n\u001b[0m    ^\u001b[0m\n\u001b[0;31mIndentationError\u001b[0m\u001b[0;31m:\u001b[0m unexpected indent\n"
     ]
    }
   ],
   "source": [
    "f1=int(input(\"number1\"))\n",
    "f2=int(input(\"numb2\"))\n",
    "f3=int(input(\"numb3\"))\n",
    "    if f1>f2 and f1>f3:\n",
    "    print(f1,\"is the largest\")\n",
    "elif (f2>f3):\n",
    "    print(f2,\"is the largest\")\n",
    "else:\n",
    "    print(f3,\"is the largest\")"
   ]
  },
  {
   "cell_type": "code",
   "execution_count": 9,
   "id": "6128dc1e",
   "metadata": {},
   "outputs": [
    {
     "name": "stdout",
     "output_type": "stream",
     "text": [
      "alpha 0.00023847663896333827\n",
      "beta -4.17354118185842e-05\n",
      "1. New Voltage : 0.287V\n",
      "\n",
      "1. New Current : 0.0A\n",
      "\n",
      "alpha 0.007867852805775314\n",
      "beta -0.0020645795102999407\n",
      "2. New Voltage : 0.372V\n",
      "\n",
      "2. New Current : 0.006A\n",
      "\n",
      "alpha 0.23031889726636284\n",
      "beta -0.07988005863113543\n",
      "3. New Voltage : 0.448V\n",
      "\n",
      "3. New Current : 0.122A\n",
      "\n",
      "alpha 4.891051951819132\n",
      "beta -2.0699722525610285\n",
      "4. New Voltage : 0.482V\n",
      "\n",
      "4. New Current : 0.479A\n",
      "\n",
      "alpha 19.155014989600097\n",
      "beta -8.760452134411013\n",
      "5. New Voltage : 0.484V\n",
      "\n",
      "5. New Current : 0.516A\n",
      "\n",
      "alpha 20.62923376809726\n",
      "beta -9.472917529910832\n",
      "6. New Voltage : 0.484V\n",
      "\n",
      "6. New Current : 0.516A\n",
      "\n",
      "alpha 20.631921409810147\n",
      "beta -9.474218886937022\n",
      "7. New Voltage : 0.484V\n",
      "\n",
      "7. New Current : 0.516A\n",
      "\n",
      "alpha 20.631921417903857\n",
      "beta -9.474218890856012\n",
      "8. New Voltage : 0.484V\n",
      "\n",
      "8. New Current : 0.516A\n",
      "\n",
      "alpha 20.63192141790393\n",
      "beta -9.474218890856045\n",
      "9. New Voltage : 0.484V\n",
      "\n",
      "9. New Current : 0.516A\n",
      "\n",
      "alpha 20.631921417904078\n",
      "beta -9.47421889085612\n",
      "10. New Voltage : 0.484V\n",
      "\n",
      "10. New Current : 0.516A\n",
      "\n"
     ]
    }
   ],
   "source": [
    "#Question 3 Code\n",
    "\n",
    "import numpy as np\n",
    "import math\n",
    "from scipy.linalg import solve\n",
    "\n",
    "\n",
    "Vt=0.025\n",
    "I0=(2*pow(10,-9))\n",
    "Vk=0.2\n",
    "I=I0*(math.exp(Vk/Vt)-1)\n",
    "\n",
    "# Assuming knee voltage of 0.33V\n",
    "Vknee=0.2\n",
    "deltaV=-1\n",
    "deltaI=-1\n",
    "Slno=1\n",
    "\n",
    "while((deltaV!=0)and(deltaI!=0)):\n",
    "    a=(I0/Vt)*(math.exp(Vk/Vt))\n",
    "    b=I-(I0/Vt)*(math.exp(Vk/Vt))*(Vk)\n",
    "    print(\"alpha\",a)\n",
    "    print(\"beta\",b)\n",
    "    Solved=solve(np.array([[a,-a,1],[-a,a+1,0],[1,0,0]]),np.array([-b,b,1]))\n",
    "    Iold=I\n",
    "    Vkold=Vk\n",
    "    Vk=Solved[0]-Solved[1]\n",
    "    \n",
    "    if Vk>Vknee:\n",
    "        I=(a*Vk)+b\n",
    "        Vk=Vt*(math.log((I/I0)+1))\n",
    "    else:\n",
    "        I=I0*(math.exp(Vk/Vt)-1)\n",
    "    \n",
    "    deltaV=Vk-Vkold\n",
    "    deltaI=I-Iold\n",
    "\n",
    "    print(str(Slno)+\". New Voltage : \"+str(round(Vk,3))+\"V\\n\")\n",
    "    print(str(Slno)+\". New Current : \"+str(round(I,3))+\"A\\n\")\n",
    "    Slno=Slno+1\n"
   ]
  },
  {
   "cell_type": "code",
   "execution_count": null,
   "id": "12968267",
   "metadata": {},
   "outputs": [],
   "source": []
  }
 ],
 "metadata": {
  "kernelspec": {
   "display_name": "Python 3 (ipykernel)",
   "language": "python",
   "name": "python3"
  },
  "language_info": {
   "codemirror_mode": {
    "name": "ipython",
    "version": 3
   },
   "file_extension": ".py",
   "mimetype": "text/x-python",
   "name": "python",
   "nbconvert_exporter": "python",
   "pygments_lexer": "ipython3",
   "version": "3.10.6"
  }
 },
 "nbformat": 4,
 "nbformat_minor": 5
}
